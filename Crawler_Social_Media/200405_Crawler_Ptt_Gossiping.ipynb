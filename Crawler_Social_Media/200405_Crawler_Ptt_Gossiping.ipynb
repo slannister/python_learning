{
 "cells": [
  {
   "cell_type": "code",
   "execution_count": 1,
   "metadata": {},
   "outputs": [],
   "source": [
    "import requests\n",
    "from bs4 import BeautifulSoup\n",
    "import json\n",
    "from urllib.parse import urljoin\n",
    "import os"
   ]
  },
  {
   "cell_type": "code",
   "execution_count": 10,
   "metadata": {},
   "outputs": [],
   "source": [
    "url = 'https://www.ptt.cc/bbs/Beauty/index.html'\n",
    "resp = requests.get(url, cookies={'over18':'1'})\n",
    "html = resp.text"
   ]
  },
  {
   "cell_type": "code",
   "execution_count": 11,
   "metadata": {},
   "outputs": [],
   "source": [
    "soup = BeautifulSoup(html, 'lxml')"
   ]
  },
  {
   "cell_type": "code",
   "execution_count": 97,
   "metadata": {},
   "outputs": [
    {
     "data": {
      "text/plain": [
       "'/bbs/Gossiping/index38823.html'"
      ]
     },
     "execution_count": 97,
     "metadata": {},
     "output_type": "execute_result"
    }
   ],
   "source": [
    "page_link = soup.find('div', 'btn-group btn-group-paging').find_all('a')\n",
    "previous_link = page_link[1]['href']\n",
    "previous_link"
   ]
  },
  {
   "cell_type": "markdown",
   "metadata": {},
   "source": [
    "# ARTICLES"
   ]
  },
  {
   "cell_type": "code",
   "execution_count": 113,
   "metadata": {
    "scrolled": true
   },
   "outputs": [],
   "source": [
    "def get_articles(url):\n",
    "    index = url\n",
    "    resp = requests.get(index, cookies={'over18':'1'})\n",
    "    html = resp.text\n",
    "    soup = BeautifulSoup(html, 'lxml')\n",
    "    \n",
    "    page_link = soup.find('div', 'btn-group btn-group-paging').find_all('a')\n",
    "    previous_link = urljoin(url, page_link[1]['href'])\n",
    "    \n",
    "    articles = []\n",
    "    \n",
    "    pttdivs = soup.find_all('div', 'r-ent')\n",
    "    for p in pttdivs:\n",
    "        if p.find('a'):                      # 避免有刪除的文章出現\n",
    "            title = p.find('a').text\n",
    "            author = p.find('div', 'author').text\n",
    "            href = p.find('a')['href']\n",
    "            link = urljoin(url, href)\n",
    "            push = p.find('div', 'nrec').text\n",
    "            if push.startswith('X'):\n",
    "                push = '0'\n",
    "            if push == '爆':\n",
    "                push = '100'\n",
    "            if push == '':\n",
    "                push = '0'\n",
    "            date = p.find('div', 'date').text\n",
    "            articles.append({'title': title,\n",
    "                            'author': author,\n",
    "                            'href': link, \n",
    "                            'push': push,\n",
    "                            'date': date})\n",
    "    return previous_link, articles\n",
    "    \n"
   ]
  },
  {
   "cell_type": "code",
   "execution_count": 165,
   "metadata": {
    "scrolled": true
   },
   "outputs": [],
   "source": [
    "def get_pages(num):   \n",
    "    index = input('url: ')\n",
    "    all_article =[]\n",
    "    ptt_url = index\n",
    "    for i in range(num):\n",
    "        pre_link, article = get_articles(ptt_url)\n",
    "        all_article += article\n",
    "        ptt_url = pre_link\n",
    "    #print('-'*10 + '共' + str(i+1) + '頁' + '-'*10)\n",
    "    return all_article"
   ]
  },
  {
   "cell_type": "code",
   "execution_count": 167,
   "metadata": {
    "scrolled": true
   },
   "outputs": [
    {
     "name": "stdout",
     "output_type": "stream",
     "text": [
      "url: https://www.ptt.cc/bbs/Gossiping/index.html\n"
     ]
    },
    {
     "data": {
      "text/plain": [
       "[{'title': '[新聞] 天然呆豪乳女神偏好弟弟 擇偶地雷大5',\n",
       "  'author': 'PCW2960',\n",
       "  'href': 'https://www.ptt.cc/bbs/Gossiping/M.1586061497.A.125.html',\n",
       "  'push': '3',\n",
       "  'date': ' 4/05'},\n",
       " {'title': '[問卦] 匪區或成最大贏家？',\n",
       "  'author': 'pams',\n",
       "  'href': 'https://www.ptt.cc/bbs/Gossiping/M.1586061499.A.CA9.html',\n",
       "  'push': '1',\n",
       "  'date': ' 4/05'},\n",
       " {'title': '[爆卦] 今日淪陷：無，全球破120萬例',\n",
       "  'author': 'eeveelugia2',\n",
       "  'href': 'https://www.ptt.cc/bbs/Gossiping/M.1586061510.A.0B2.html',\n",
       "  'push': '15',\n",
       "  'date': ' 4/05'},\n",
       " {'title': '[問卦] 在國外住露營車被居家隔離該停在原地嗎',\n",
       "  'author': 'j121369730',\n",
       "  'href': 'https://www.ptt.cc/bbs/Gossiping/M.1586061536.A.BDF.html',\n",
       "  'push': '0',\n",
       "  'date': ' 4/05'},\n",
       " {'title': '[問卦] 八年級有比七年級幸運嗎？',\n",
       "  'author': 'takizawa5566',\n",
       "  'href': 'https://www.ptt.cc/bbs/Gossiping/M.1586061547.A.5DF.html',\n",
       "  'push': '5',\n",
       "  'date': ' 4/05'},\n",
       " {'title': '[問卦] 簽名檔放一堆圖片的在想什麼',\n",
       "  'author': 'cow8o',\n",
       "  'href': 'https://www.ptt.cc/bbs/Gossiping/M.1586061552.A.903.html',\n",
       "  'push': '2',\n",
       "  'date': ' 4/05'},\n",
       " {'title': '[問卦] 去看完電影的回來罵去墾丁的人？',\n",
       "  'author': 'lauwei',\n",
       "  'href': 'https://www.ptt.cc/bbs/Gossiping/M.1586061564.A.D03.html',\n",
       "  'push': '8',\n",
       "  'date': ' 4/05'},\n",
       " {'title': '[問卦] 連假已經第三刷終局之戰ㄌ...',\n",
       "  'author': 'Ommmmmm5566',\n",
       "  'href': 'https://www.ptt.cc/bbs/Gossiping/M.1586061576.A.FE0.html',\n",
       "  'push': '6',\n",
       "  'date': ' 4/05'},\n",
       " {'title': 'Re: [問卦] 怎樣才叫高級社區?',\n",
       "  'author': 'gg8n8nd34ss',\n",
       "  'href': 'https://www.ptt.cc/bbs/Gossiping/M.1586061635.A.05D.html',\n",
       "  'push': '1',\n",
       "  'date': ' 4/05'},\n",
       " {'title': '[問卦] 臺灣哪些自助餐店可以用電子支付？',\n",
       "  'author': 'Encrypt',\n",
       "  'href': 'https://www.ptt.cc/bbs/Gossiping/M.1586061661.A.909.html',\n",
       "  'push': '5',\n",
       "  'date': ' 4/05'},\n",
       " {'title': 'Re: [問卦] 女生的專長到底是甚麼?',\n",
       "  'author': 'ronny1020',\n",
       "  'href': 'https://www.ptt.cc/bbs/Gossiping/M.1586061674.A.513.html',\n",
       "  'push': '0',\n",
       "  'date': ' 4/05'},\n",
       " {'title': '[問卦] 中油的油價直直落 今年還會賺錢嗎？',\n",
       "  'author': 'saiulbb',\n",
       "  'href': 'https://www.ptt.cc/bbs/Gossiping/M.1586061730.A.67E.html',\n",
       "  'push': '6',\n",
       "  'date': ' 4/05'},\n",
       " {'title': 'Re: [問卦] 醜女其實很多吧？？',\n",
       "  'author': 'todao',\n",
       "  'href': 'https://www.ptt.cc/bbs/Gossiping/M.1586061742.A.C75.html',\n",
       "  'push': '1',\n",
       "  'date': ' 4/05'},\n",
       " {'title': '[問卦] 為何澳洲只有 2500 萬人',\n",
       "  'author': 'alihue',\n",
       "  'href': 'https://www.ptt.cc/bbs/Gossiping/M.1586061743.A.A8C.html',\n",
       "  'push': '9',\n",
       "  'date': ' 4/05'},\n",
       " {'title': '[新聞] 球迷快看！莎娃公布電話號碼一起尬聊',\n",
       "  'author': 'Jackson4234',\n",
       "  'href': 'https://www.ptt.cc/bbs/Gossiping/M.1586061756.A.E65.html',\n",
       "  'push': '10',\n",
       "  'date': ' 4/05'},\n",
       " {'title': '[問卦]  娶客家妹子是否真不錯啊',\n",
       "  'author': 'soulgel',\n",
       "  'href': 'https://www.ptt.cc/bbs/Gossiping/M.1586061776.A.232.html',\n",
       "  'push': '0',\n",
       "  'date': ' 4/05'},\n",
       " {'title': 'Re: [爆卦] 紐約州長: 感謝中國政府及馬雲',\n",
       "  'author': 'KINMENKING',\n",
       "  'href': 'https://www.ptt.cc/bbs/Gossiping/M.1586061782.A.C8C.html',\n",
       "  'push': '3',\n",
       "  'date': ' 4/05'},\n",
       " {'title': '[問卦] 越南是不是有點強啊？',\n",
       "  'author': 'TingTT',\n",
       "  'href': 'https://www.ptt.cc/bbs/Gossiping/M.1586061865.A.9CE.html',\n",
       "  'push': '3',\n",
       "  'date': ' 4/05'},\n",
       " {'title': '[新聞] 白色海芋之旅開跑 柯P：防疫期仍可踏青',\n",
       "  'author': 'Agguy',\n",
       "  'href': 'https://www.ptt.cc/bbs/Gossiping/M.1586061885.A.C20.html',\n",
       "  'push': '12',\n",
       "  'date': ' 4/05'},\n",
       " {'title': 'Re: [問卦] 八年級有比七年級幸運嗎？',\n",
       "  'author': 'Saint0822',\n",
       "  'href': 'https://www.ptt.cc/bbs/Gossiping/M.1586061887.A.CDE.html',\n",
       "  'push': '0',\n",
       "  'date': ' 4/05'},\n",
       " {'title': '[公告] 八卦板板規(2020.03.21)',\n",
       "  'author': 'DreamYeh',\n",
       "  'href': 'https://www.ptt.cc/bbs/Gossiping/M.1584722568.A.473.html',\n",
       "  'push': '0',\n",
       "  'date': ' 3/21'},\n",
       " {'title': '[協尋]  3/25  16點寶山路往食品路車禍影像',\n",
       "  'author': 'funnyemma',\n",
       "  'href': 'https://www.ptt.cc/bbs/Gossiping/M.1585203279.A.721.html',\n",
       "  'push': '100',\n",
       "  'date': ' 3/26'},\n",
       " {'title': '[協尋] 台南狗狗走失(代PO)',\n",
       "  'author': 'xxx88550',\n",
       "  'href': 'https://www.ptt.cc/bbs/Gossiping/M.1586058672.A.AC4.html',\n",
       "  'push': '4',\n",
       "  'date': ' 4/05'},\n",
       " {'title': '[公告] 四月份置底閒聊文',\n",
       "  'author': 'Kay731',\n",
       "  'href': 'https://www.ptt.cc/bbs/Gossiping/M.1585693032.A.E34.html',\n",
       "  'push': '3',\n",
       "  'date': ' 4/01'},\n",
       " {'title': '[問卦] 為啥武漢肺炎病毒可以去除 愛滋病毒很難?',\n",
       "  'author': 'q347',\n",
       "  'href': 'https://www.ptt.cc/bbs/Gossiping/M.1586060886.A.0C7.html',\n",
       "  'push': '7',\n",
       "  'date': ' 4/05'},\n",
       " {'title': '[政治] 不只鋪馬路！韓任內首個重大建設 將影響',\n",
       "  'author': 'sweat992001',\n",
       "  'href': 'https://www.ptt.cc/bbs/Gossiping/M.1586060895.A.AD7.html',\n",
       "  'push': '0',\n",
       "  'date': ' 4/05'},\n",
       " {'title': '[問卦] 流感不是比武漢肺炎更恐怖嗎?',\n",
       "  'author': 'suck9527',\n",
       "  'href': 'https://www.ptt.cc/bbs/Gossiping/M.1586060908.A.530.html',\n",
       "  'push': '0',\n",
       "  'date': ' 4/05'},\n",
       " {'title': 'Re: [問卦] 女生的專長到底是甚麼?',\n",
       "  'author': 'ianlin1216',\n",
       "  'href': 'https://www.ptt.cc/bbs/Gossiping/M.1586060920.A.E8C.html',\n",
       "  'push': '2',\n",
       "  'date': ' 4/05'},\n",
       " {'title': 'Re: [問卦] 雲端廚房有搞頭嗎?',\n",
       "  'author': 'popy8789',\n",
       "  'href': 'https://www.ptt.cc/bbs/Gossiping/M.1586060928.A.A00.html',\n",
       "  'push': '0',\n",
       "  'date': ' 4/05'},\n",
       " {'title': '[爆卦] 田知學醫師FB 病人去完宜蘭喉嚨癢掛急診',\n",
       "  'author': 'dbidiot',\n",
       "  'href': 'https://www.ptt.cc/bbs/Gossiping/M.1586060931.A.1E1.html',\n",
       "  'push': '13',\n",
       "  'date': ' 4/05'},\n",
       " {'title': '[問卦] 醜女其實很多吧？？',\n",
       "  'author': 'PPAPwww',\n",
       "  'href': 'https://www.ptt.cc/bbs/Gossiping/M.1586060951.A.D3D.html',\n",
       "  'push': '1',\n",
       "  'date': ' 4/05'},\n",
       " {'title': 'Re: [問卦] 該信防疫學家還是八卦專家',\n",
       "  'author': 'GenghisKhan',\n",
       "  'href': 'https://www.ptt.cc/bbs/Gossiping/M.1586060971.A.136.html',\n",
       "  'push': '4',\n",
       "  'date': ' 4/05'},\n",
       " {'title': 'Re: [問卦] 九份冷清 墾丁爆滿',\n",
       "  'author': 'xu3',\n",
       "  'href': 'https://www.ptt.cc/bbs/Gossiping/M.1586060986.A.44D.html',\n",
       "  'push': '0',\n",
       "  'date': ' 4/05'},\n",
       " {'title': '[新聞] 連假去宜蘭爽玩...隔晚有症狀！醫嘆「出',\n",
       "  'author': 'kivan00',\n",
       "  'href': 'https://www.ptt.cc/bbs/Gossiping/M.1586060987.A.2C2.html',\n",
       "  'push': '52',\n",
       "  'date': ' 4/05'},\n",
       " {'title': '[問卦] 劉備守得住街亭卻跑去打夷陵',\n",
       "  'author': 'brbear',\n",
       "  'href': 'https://www.ptt.cc/bbs/Gossiping/M.1586061014.A.5EE.html',\n",
       "  'push': '5',\n",
       "  'date': ' 4/05'},\n",
       " {'title': '[新聞] 香港基本法30週年 人民日報:一國兩制取得',\n",
       "  'author': 'huangjyuan',\n",
       "  'href': 'https://www.ptt.cc/bbs/Gossiping/M.1586061157.A.28D.html',\n",
       "  'push': '16',\n",
       "  'date': ' 4/05'},\n",
       " {'title': '[問卦] 繼續住透天還是去管理費破萬的房子啊？',\n",
       "  'author': 'hahaWenZuhah',\n",
       "  'href': 'https://www.ptt.cc/bbs/Gossiping/M.1586061210.A.4B0.html',\n",
       "  'push': '4',\n",
       "  'date': ' 4/05'},\n",
       " {'title': '[新聞] 長得太成熟？少女二度遭摸乳 慣犯狼僅加',\n",
       "  'author': 'DevilHotel',\n",
       "  'href': 'https://www.ptt.cc/bbs/Gossiping/M.1586061226.A.15B.html',\n",
       "  'push': '2',\n",
       "  'date': ' 4/05'},\n",
       " {'title': '[問卦] 除了逛夜市台灣人還會別的嗎？',\n",
       "  'author': 'crossmyheart',\n",
       "  'href': 'https://www.ptt.cc/bbs/Gossiping/M.1586061234.A.ABF.html',\n",
       "  'push': '5',\n",
       "  'date': ' 4/05'},\n",
       " {'title': '[新聞] 高雄警「所內飲酒、開巡邏車撞山」下場慘',\n",
       "  'author': 'strellson',\n",
       "  'href': 'https://www.ptt.cc/bbs/Gossiping/M.1586061288.A.1D9.html',\n",
       "  'push': '8',\n",
       "  'date': ' 4/05'},\n",
       " {'title': '[政治] 民進黨5月黨部主委改選 牽動2022縣市長布',\n",
       "  'author': 'boxcar',\n",
       "  'href': 'https://www.ptt.cc/bbs/Gossiping/M.1586061337.A.247.html',\n",
       "  'push': '6',\n",
       "  'date': ' 4/05'},\n",
       " {'title': '[問卦] 還願的版權狀態？',\n",
       "  'author': 'youngglasses',\n",
       "  'href': 'https://www.ptt.cc/bbs/Gossiping/M.1586061358.A.FDA.html',\n",
       "  'push': '3',\n",
       "  'date': ' 4/05'},\n",
       " {'title': 'Re: [問卦] 為何突然一堆嘴政府防疫的文章？',\n",
       "  'author': 'ispy03532003',\n",
       "  'href': 'https://www.ptt.cc/bbs/Gossiping/M.1586061468.A.E6B.html',\n",
       "  'push': '0',\n",
       "  'date': ' 4/05'},\n",
       " {'title': '[問卦] 中國武漢病毒基因修改？',\n",
       "  'author': 'patentstm',\n",
       "  'href': 'https://www.ptt.cc/bbs/Gossiping/M.1586061489.A.D5C.html',\n",
       "  'push': '0',\n",
       "  'date': ' 4/05'}]"
      ]
     },
     "execution_count": 167,
     "metadata": {},
     "output_type": "execute_result"
    }
   ],
   "source": [
    "get_pages(2)"
   ]
  },
  {
   "cell_type": "markdown",
   "metadata": {},
   "source": [
    "# 過濾推文數"
   ]
  },
  {
   "cell_type": "code",
   "execution_count": 71,
   "metadata": {
    "scrolled": true
   },
   "outputs": [
    {
     "name": "stdout",
     "output_type": "stream",
     "text": [
      "[協尋]  3/25  16點寶山路往食品路車禍影像\n",
      "100\n",
      "funnyemma\n"
     ]
    }
   ],
   "source": [
    "push_count = 20\n",
    "for article in articles:\n",
    "    if article['push'] != '':\n",
    "        push_min = int(article['push'])\n",
    "    else:\n",
    "        push_min = 0\n",
    "    if push_min > push_count:\n",
    "        print(article['title'])\n",
    "        print(article['push'])\n",
    "        print(article['author'])"
   ]
  },
  {
   "cell_type": "markdown",
   "metadata": {},
   "source": [
    "# Export File"
   ]
  },
  {
   "cell_type": "code",
   "execution_count": 77,
   "metadata": {},
   "outputs": [],
   "source": [
    "fn = 'ptt_Gossip.json'\n",
    "with open(fn, 'w', encoding='utf-8') as file:\n",
    "    json.dump(articles, file, ensure_ascii=False, indent=2)"
   ]
  },
  {
   "cell_type": "markdown",
   "metadata": {},
   "source": [
    "# Beauty board"
   ]
  },
  {
   "cell_type": "code",
   "execution_count": 236,
   "metadata": {
    "scrolled": true
   },
   "outputs": [
    {
     "name": "stdout",
     "output_type": "stream",
     "text": [
      "url: https://www.ptt.cc/bbs/Beauty/index.html\n"
     ]
    },
    {
     "data": {
      "text/plain": [
       "[{'title': '[正妹] 美人母 ',\n",
       "  'author': 'teramars',\n",
       "  'href': 'https://www.ptt.cc/bbs/Beauty/M.1586038884.A.4E5.html',\n",
       "  'push': '40',\n",
       "  'date': ' 4/05'},\n",
       " {'title': '[正妹] 康寧 俄羅斯混血',\n",
       "  'author': 'fotumbra',\n",
       "  'href': 'https://www.ptt.cc/bbs/Beauty/M.1586050900.A.04D.html',\n",
       "  'push': '3',\n",
       "  'date': ' 4/05'},\n",
       " {'title': '[正妹] 大尺碼｜肉特(A14)',\n",
       "  'author': 'ckpot',\n",
       "  'href': 'https://www.ptt.cc/bbs/Beauty/M.1586061542.A.FD7.html',\n",
       "  'push': '2',\n",
       "  'date': ' 4/05'},\n",
       " {'title': '[公告] 不願上表特 ＆ 優文推薦 ＆ 檢舉建議專區',\n",
       "  'author': 'hateOnas',\n",
       "  'href': 'https://www.ptt.cc/bbs/Beauty/M.1558415952.A.8D7.html',\n",
       "  'push': '79',\n",
       "  'date': ' 5/21'},\n",
       " {'title': 'Fw: [公告] 請使用者多加注意我國保護兒少的法令',\n",
       "  'author': 'hateOnas',\n",
       "  'href': 'https://www.ptt.cc/bbs/Beauty/M.1563960846.A.05A.html',\n",
       "  'push': '0',\n",
       "  'date': ' 7/24'},\n",
       " {'title': '[公告] 表特板板規(2020.3.24)',\n",
       "  'author': 'hateOnas',\n",
       "  'href': 'https://www.ptt.cc/bbs/Beauty/M.1564114881.A.155.html',\n",
       "  'push': '0',\n",
       "  'date': ' 7/26'},\n",
       " {'title': '[公告] 請勿意淫推文 ',\n",
       "  'author': 'hateOnas',\n",
       "  'href': 'https://www.ptt.cc/bbs/Beauty/M.1574513001.A.A80.html',\n",
       "  'push': '3',\n",
       "  'date': '11/23'}]"
      ]
     },
     "execution_count": 236,
     "metadata": {},
     "output_type": "execute_result"
    }
   ],
   "source": [
    "get_pages(1)"
   ]
  },
  {
   "cell_type": "markdown",
   "metadata": {},
   "source": [
    "# 文章數"
   ]
  },
  {
   "cell_type": "code",
   "execution_count": null,
   "metadata": {},
   "outputs": [],
   "source": [
    "for p in ptt_divs:\n",
    "    if p.find('a'):\n",
    "        articles +=1\n",
    "print(articles)"
   ]
  },
  {
   "cell_type": "markdown",
   "metadata": {},
   "source": [
    "# 抓內文"
   ]
  },
  {
   "cell_type": "code",
   "execution_count": 203,
   "metadata": {
    "scrolled": true
   },
   "outputs": [
    {
     "name": "stdout",
     "output_type": "stream",
     "text": [
      "作者 : fotumbra (想像不出光的影子)\n",
      "標題 : [正妹] 康寧 俄羅斯混血\n",
      "時間 : Sun Apr  5 09:41:37 2020\n"
     ]
    }
   ],
   "source": [
    "url = 'https://www.ptt.cc/bbs/Beauty/index.html'\n",
    "resp = requests.get(url, cookies={'over18':'1'})\n",
    "html = resp.text\n",
    "soup = BeautifulSoup(html, 'lxml')\n",
    "\n",
    "articles = 0\n",
    "ptt_divs = soup.find_all('div', 'r-ent')\n",
    "\n",
    "href = ptt_divs[2].find('a')['href']\n",
    "\n",
    "beauty_html = requests.get(urljoin(url, href), cookies={'over18':'1'})\n",
    "beauty_soup = BeautifulSoup(beauty_html.text, 'lxml')\n",
    "\n",
    "beauty_divs = beauty_soup.find('div', id='main-content')\n",
    "items = beauty_divs.find_all('div', 'article-metaline')\n",
    "for item in items:\n",
    "    field = item.find('span', 'article-meta-tag')\n",
    "    print(field.text, end=' : ')\n",
    "    field_data = item.find('span', 'article-meta-value')\n",
    "    print(field_data.text)"
   ]
  },
  {
   "cell_type": "markdown",
   "metadata": {},
   "source": [
    "# 內文"
   ]
  },
  {
   "cell_type": "code",
   "execution_count": 212,
   "metadata": {
    "scrolled": true
   },
   "outputs": [
    {
     "data": {
      "text/plain": [
       "'康寧 俄羅斯混血,\\n\\n女演員, 我覺得她主演到好戲就會大紅,\\n\\n板上還沒有人貼過她.'"
      ]
     },
     "execution_count": 212,
     "metadata": {},
     "output_type": "execute_result"
    }
   ],
   "source": [
    "my_list = list(beauty_divs)\n",
    "my_list[4].strip()"
   ]
  },
  {
   "cell_type": "markdown",
   "metadata": {},
   "source": [
    "# 評論"
   ]
  },
  {
   "cell_type": "code",
   "execution_count": 232,
   "metadata": {
    "scrolled": true
   },
   "outputs": [
    {
     "data": {
      "text/plain": [
       "14"
      ]
     },
     "execution_count": 232,
     "metadata": {},
     "output_type": "execute_result"
    }
   ],
   "source": [
    "len(pushes)"
   ]
  },
  {
   "cell_type": "code",
   "execution_count": 235,
   "metadata": {
    "scrolled": true
   },
   "outputs": [
    {
     "name": "stdout",
     "output_type": "stream",
     "text": [
      "push      : →\n",
      "id        : silvester963\n",
      "content   : 下面一位，謝謝\n",
      "date      : 101.10.5.123 04/05 09:42\n",
      "push      : →\n",
      "id        : HunsKing\n",
      "content   : 胡瓜\n",
      "date      : 223.138.101.255 04/05 09:53\n",
      "push      : 推\n",
      "id        : cms6384\n",
      "content   : 小\n",
      "date      : 61.61.227.213 04/05 09:55\n",
      "push      : 推\n",
      "id        : darkbishop\n",
      "content   : 醜版Lara\n",
      "date      : 23.242.118.130 04/05 09:57\n",
      "push      : →\n",
      "id        : i52088888\n",
      "content   : 略過\n",
      "date      : 42.73.107.137 04/05 10:01\n",
      "push      : →\n",
      "id        : marlonlai\n",
      "content   : 漂亮是漂亮，但中國女藝人好像蠻多都這\n",
      "date      : 49.214.132.96 04/05 10:05\n",
      "push      : →\n",
      "id        : marlonlai\n",
      "content   : 型的\n",
      "date      : 49.214.132.96 04/05 10:05\n",
      "push      : →\n",
      "id        : IS5F5566\n",
      "content   : 康寧玻璃我知道\n",
      "date      : 1.175.252.159 04/05 10:22\n",
      "push      : 推\n",
      "id        : Jokering5566\n",
      "content   : 原來康寧有做塑膠 我還以為是玻璃\n",
      "date      : 180.176.72.157 04/05 10:34\n",
      "push      : 噓\n",
      "id        : laba5566\n",
      "content   : 支那賤畜塑膠\n",
      "date      : 73.197.58.64 04/05 10:57\n",
      "push      : 推\n",
      "id        : domago\n",
      "content   : 漂亮只是基本 特色才是關鍵\n",
      "date      : 180.217.88.247 04/05 11:55\n",
      "push      : 推\n",
      "id        : zippy\n",
      "content   : 康寧大學嗎？\n",
      "date      : 42.73.211.156 04/05 11:57\n",
      "push      : 噓\n",
      "id        : Joba07\n",
      "content   : 支那\n",
      "date      : 180.217.68.16 04/05 12:04\n",
      "push      : →\n",
      "id        : palapalanhu\n",
      "content   : 中國不缺這種的\n",
      "date      : 36.224.53.62 04/05 12:42\n"
     ]
    }
   ],
   "source": [
    "pushes = beauty_divs.find_all('div', 'push')\n",
    "for push in pushes:\n",
    "    push_tag = push.find('span', 'push-tag')\n",
    "    print('push      :', push_tag.text.strip())\n",
    "    push_id = push.find('span', 'push-userid')\n",
    "    print('id        :', push_id.text.strip())\n",
    "    push_content = push.find('span', 'push-content')\n",
    "    print('content  ', push_content.text.strip())\n",
    "    push_date = push.find('span', 'push-ipdatetime')\n",
    "    print('date      :', push_date.text.strip(),end='\\n')\n",
    "\n"
   ]
  },
  {
   "cell_type": "markdown",
   "metadata": {},
   "source": [
    "# 圖片下載"
   ]
  },
  {
   "cell_type": "code",
   "execution_count": 243,
   "metadata": {},
   "outputs": [
    {
     "name": "stdout",
     "output_type": "stream",
     "text": [
      "https://i.imgur.com/ZL11kjr.jpg\n",
      "https://i.imgur.com/oKMiGhF.jpg\n",
      "https://i.imgur.com/Fb2vdoZ.jpg\n"
     ]
    }
   ],
   "source": [
    "photos = []          # photo link\n",
    "photo_url = beauty_divs.find_all('a')\n",
    "for photo in photo_url:\n",
    "    photo_href = photo['href']\n",
    "    if photo_href.startswith('https://i.imgur'):\n",
    "        photos.append(photo_href)\n",
    "        \n",
    "for photo in photos:\n",
    "    print(photo)"
   ]
  },
  {
   "cell_type": "code",
   "execution_count": 247,
   "metadata": {},
   "outputs": [
    {
     "name": "stdout",
     "output_type": "stream",
     "text": [
      "搜尋到的數量:  3\n",
      "https://i.imgur.com/ZL11kjr.jpg done\n",
      "https://i.imgur.com/oKMiGhF.jpg done\n",
      "https://i.imgur.com/Fb2vdoZ.jpg done\n"
     ]
    }
   ],
   "source": [
    "photodir = 'Beauty_photo'\n",
    "if os.path.exists(photodir) == False:\n",
    "    os.mkdir(photodir)\n",
    "print('搜尋到的數量: ', len(photos))\n",
    "for photo in photos:\n",
    "    picture = requests.get(photo)\n",
    "    print('%s done'  % photo)\n",
    "    \n",
    "    picfile = open(os.path.join(photodir, os.path.basename(photo)),'wb')\n",
    "    for diskStorge in picture.iter_content(10240):\n",
    "        picfile.write(diskStorge)\n",
    "    picfile.close()"
   ]
  },
  {
   "cell_type": "code",
   "execution_count": null,
   "metadata": {},
   "outputs": [],
   "source": []
  }
 ],
 "metadata": {
  "kernelspec": {
   "display_name": "Python 3",
   "language": "python",
   "name": "python3"
  },
  "language_info": {
   "codemirror_mode": {
    "name": "ipython",
    "version": 3
   },
   "file_extension": ".py",
   "mimetype": "text/x-python",
   "name": "python",
   "nbconvert_exporter": "python",
   "pygments_lexer": "ipython3",
   "version": "3.7.3"
  }
 },
 "nbformat": 4,
 "nbformat_minor": 2
}
