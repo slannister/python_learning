{
 "cells": [
  {
   "cell_type": "code",
   "execution_count": 1,
   "metadata": {},
   "outputs": [],
   "source": [
    "import requests\n",
    "from bs4 import BeautifulSoup\n",
    "import re\n",
    "import urllib.request\n",
    "import os\n",
    "import time\n",
    "import json\n",
    "from urllib.parse import urljoin\n",
    "import csv\n",
    "import random\n",
    "import jieba"
   ]
  },
  {
   "cell_type": "code",
   "execution_count": 2,
   "metadata": {
    "scrolled": true
   },
   "outputs": [],
   "source": [
    "def get_article(url):   \n",
    "    resp = requests.get(url=url, cookies={'over18':'1'})\n",
    "    soup = BeautifulSoup(resp.text, 'lxml')\n",
    "\n",
    "    prev_link = soup.find('div', 'btn-group-paging').find_all('a')[1]\n",
    "    prev_link = prev_link['href'] if 'href' in prev_link.attrs else None\n",
    "\n",
    "    pos_article = []\n",
    "    neg_article = []\n",
    "\n",
    "    for div in soup.find_all('div', 'r-ent'):\n",
    "        href = div.find('div', 'title').a['href']\n",
    "        title = div.find('div', 'title').text.strip()\n",
    "        if re.match('\\[.*\\]', title):\n",
    "            tag = re.match('\\[.*\\]', title).group(0)\n",
    "            if '好' in tag:\n",
    "                pos_article.append([title, href])\n",
    "            if '爛' in tag or '負' in tag:\n",
    "                neg_article.append([title, href])\n",
    "\n",
    "    return prev_link, pos_article, neg_article"
   ]
  },
  {
   "cell_type": "code",
   "execution_count": 8,
   "metadata": {},
   "outputs": [
    {
     "name": "stdout",
     "output_type": "stream",
     "text": [
      "46 [['[好雷] 復仇者聯盟2-奧創紀元', '/bbs/movie/M.1552723525.A.914.html'], ['[好雷] 復仇者聯盟2:奧創紀元，家庭敘事', '/bbs/movie/M.1525322737.A.337.html'], ['[普好雷] 復仇者聯盟2 一些心得', '/bbs/movie/M.1512467672.A.8B1.html'], ['[好雷] 正義聯盟--復仇者聯盟2 2.0?', '/bbs/movie/M.1510840746.A.235.html']]\n",
      "10 [['[負雷] 復仇者聯盟2疑似歹戲拖棚的片段', '/bbs/movie/M.1432016328.A.565.html'], ['[負雷]復仇者聯盟2', '/bbs/movie/M.1430545272.A.7F0.html'], ['[普負雷]《復仇者聯盟2：奧創紀元》在趕進度嗎?', '/bbs/movie/M.1430219814.A.B2F.html'], ['[負雷] 復仇者聯盟2 真心不推', '/bbs/movie/M.1430033678.A.F20.html']]\n"
     ]
    }
   ],
   "source": [
    "ptt_url = 'https://www.ptt.cc/bbs/movie/search?q='\n",
    "movie_name = '復仇者聯盟2'\n",
    "url = ptt_url + movie_name\n",
    "\n",
    "postive_posts, negative_posts = [], []\n",
    "prev_link, pos, neg = get_article(url)\n",
    "postive_posts += pos\n",
    "negative_posts += neg\n",
    "\n",
    "while prev_link:\n",
    "    url = urljoin(ptt_url, prev_link)\n",
    "    prev_link, pos, neg = get_article(url)\n",
    "    postive_posts += pos\n",
    "    negative_posts += neg\n",
    "\n",
    "\n",
    "print(len(postive_posts), postive_posts[:4])\n",
    "print(len(negative_posts), negative_posts[:4])\n",
    "\n",
    "with open('mov_pos.csv', 'w', encoding='utf-8', newline='') as file:\n",
    "    writer = csv.writer(file)\n",
    "    writer.writerow(['title', 'href'])\n",
    "    writer.writerows(postive_posts)\n",
    "    \n",
    "with open('mov_neg.csv', 'w', encoding='utf-8', newline='') as file:\n",
    "    writer = csv.writer(file)\n",
    "    writer.writerow(['title', 'href'])\n",
    "    writer.writerows(negative_posts) \n"
   ]
  },
  {
   "cell_type": "markdown",
   "metadata": {},
   "source": [
    "# Ptt內文"
   ]
  },
  {
   "cell_type": "code",
   "execution_count": 9,
   "metadata": {},
   "outputs": [],
   "source": [
    "# \\u4e00-\\u9fa5 -> 保留中文\n",
    "def clear_text(txt):\n",
    "    expr = re.compile('[^\\u4e00-\\u9fa5。；，：“”（）、？「 」『』\\s\\w:/\\-.]')\n",
    "    txt = re.sub(expr, '', txt)\n",
    "    txt = re.sub('[。;，:\"\"()、？「」『』：/\\-_.（）]', '', txt)\n",
    "    txt = re.sub('(\\s)+', '', txt)\n",
    "    txt = txt.replace('--', '')\n",
    "    txt = txt.lower()\n",
    "    return txt"
   ]
  },
  {
   "cell_type": "code",
   "execution_count": 10,
   "metadata": {},
   "outputs": [],
   "source": [
    "def get_post(url):\n",
    "    resp = requests.get(url=url, cookies={'over18':'1'})\n",
    "    soup = BeautifulSoup(resp.text, 'lxml')\n",
    "    main_content = soup.find('div', id='main-content')\n",
    "    \n",
    "    for meta in main_content.find_all('div', 'article-metaline'):     # 移除標題區塊\n",
    "        meta.extract()        \n",
    "    for meta in main_content.find_all('div', 'article-metaline-right'):\n",
    "        meta.extract()\n",
    "    for push in main_content.find_all('div', 'push'):                 # 移除推文區塊\n",
    "        push.extract()\n",
    "        \n",
    "    parsed = []\n",
    "    \n",
    "    for txt in main_content.stripped_strings:\n",
    "        if txt[0] == '※' or txt[:2] == '--' or url in txt:\n",
    "            continue\n",
    "        txt = clear_text(txt)\n",
    "        if txt:\n",
    "            parsed.append(txt)\n",
    "    return ' '.join(parsed)"
   ]
  },
  {
   "cell_type": "code",
   "execution_count": 22,
   "metadata": {},
   "outputs": [],
   "source": [
    "def get_article_body(csv_file):\n",
    "    id_to_body = {}\n",
    "    with open(csv_file, 'r', encoding='utf-8') as file:\n",
    "        reader = csv.DictReader(file)\n",
    "        for row in reader:\n",
    "            print('處理中...', row['title'], row['href'])\n",
    "            title = ' '.join(row['title'].split(']')[1:])\n",
    "            title = clear_text(title)\n",
    "            body = get_post(urljoin(ptt_url, row['href']))\n",
    "            id_to_body[row['href']] = title + ' ' + body\n",
    "            \n",
    "            time.sleep(random.randint(1,3))\n",
    "    return id_to_body"
   ]
  },
  {
   "cell_type": "markdown",
   "metadata": {},
   "source": [
    "# 合體"
   ]
  },
  {
   "cell_type": "code",
   "execution_count": 23,
   "metadata": {
    "scrolled": true
   },
   "outputs": [
    {
     "name": "stdout",
     "output_type": "stream",
     "text": [
      "處理中... [好雷] 復仇者聯盟2-奧創紀元 /bbs/movie/M.1552723525.A.914.html\n",
      "處理中... [好雷] 復仇者聯盟2:奧創紀元，家庭敘事 /bbs/movie/M.1525322737.A.337.html\n",
      "處理中... [普好雷] 復仇者聯盟2 一些心得 /bbs/movie/M.1512467672.A.8B1.html\n",
      "處理中... [好雷] 正義聯盟--復仇者聯盟2 2.0? /bbs/movie/M.1510840746.A.235.html\n",
      "處理中... [好雷] 復仇者聯盟2-原來看了美3再回味會變好看 /bbs/movie/M.1463627195.A.6CB.html\n",
      "處理中... [好雷] 復仇者聯盟2: \"最上流的符號隱喻\" /bbs/movie/M.1439710329.A.D30.html\n",
      "處理中... [微好雷]復仇者聯盟2 精彩中帶點可惜 /bbs/movie/M.1432019828.A.1E9.html\n",
      "處理中... [普好雷]復仇者聯盟2：奧創紀元 /bbs/movie/M.1431162177.A.3DE.html\n",
      "處理中... [算好雷]《復仇者聯盟2》 誠意十足也危機四伏 /bbs/movie/M.1430233849.A.3EC.html\n",
      "處理中... [普好雷] 復仇者聯盟2一點雜感加疑問 /bbs/movie/M.1430229292.A.226.html\n",
      "處理中... [好雷]復仇者聯盟2:劇情元素加重的大拜拜 /bbs/movie/M.1430194600.A.6A8.html\n",
      "處理中... [好雷] 復仇者聯盟2 /bbs/movie/M.1430129701.A.8D1.html\n",
      "處理中... [好雷] 復仇者聯盟2 奧創 /bbs/movie/M.1430118511.A.770.html\n",
      "處理中... [無好雷]二刷的復仇者聯盟2 /bbs/movie/M.1430067483.A.195.html\n",
      "處理中... [好雷] 看得很爽的復仇者聯盟2 /bbs/movie/M.1430062787.A.645.html\n",
      "處理中... [好雷] 復仇者聯盟2 為了迎接無限制之戰 /bbs/movie/M.1430037476.A.1BF.html\n",
      "處理中... [普好雷] 為了贈品的二刷復仇者聯盟2 /bbs/movie/M.1430032703.A.332.html\n",
      "處理中... [好雷] 復仇者聯盟2:奧創紀元 非典型續集片 /bbs/movie/M.1429986149.A.07C.html\n",
      "處理中... [普好雷]復仇者聯盟2 可圈可點 /bbs/movie/M.1429983104.A.378.html\n",
      "處理中... [ 好雷]【點評:復仇者聯盟2:奧創紀元】 /bbs/movie/M.1429981633.A.1AE.html\n",
      "處理中... [好雷] 復仇者聯盟2：奧創紀元 /bbs/movie/M.1429972917.A.171.html\n",
      "處理中... [ 好普雷] 復仇者聯盟2-糟糕的翻譯 /bbs/movie/M.1429964649.A.89E.html\n",
      "處理中... [好雷]復仇者聯盟2  奧創到底哪裡弱了= = /bbs/movie/M.1429800763.A.B7B.html\n",
      "處理中... [好雷] 復仇者聯盟2 就是喜歡啦 /bbs/movie/M.1429798284.A.4D8.html\n",
      "處理中... [普好雷]有點砸鍋的復仇者聯盟2 /bbs/movie/M.1429796239.A.B33.html\n",
      "處理中... [好雷]復仇者聯盟2的一些心得 /bbs/movie/M.1429794710.A.393.html\n",
      "處理中... [好雷] 復仇者聯盟2 + 一些疑問 /bbs/movie/M.1429781535.A.996.html\n",
      "處理中... [好雷] 復仇者聯盟2:奧創紀元 /bbs/movie/M.1429762603.A.07E.html\n",
      "處理中... [ 普好雷] 爽看的復仇者聯盟2 /bbs/movie/M.1429759635.A.555.html\n",
      "處理中... [好雷]復仇者聯盟2~ 承先啟後 /bbs/movie/M.1429758086.A.273.html\n",
      "處理中... [普好雷] 復仇者聯盟2:不夠強大的奧創 /bbs/movie/M.1429723572.A.90A.html\n",
      "處理中... [好雷]復仇者聯盟2奧創紀元 /bbs/movie/M.1429723471.A.708.html\n",
      "處理中... [好雷] 復仇者聯盟2 幾個疑問 /bbs/movie/M.1429720162.A.21A.html\n",
      "處理中... [好爽雷]復仇者聯盟2-----龐大的後續 /bbs/movie/M.1429711501.A.3BD.html\n",
      "處理中... [普好雷] 復仇者聯盟2 有點普通又有點好看 /bbs/movie/M.1429704606.A.06D.html\n",
      "處理中... [好雷 微雷] 復仇者聯盟2 /bbs/movie/M.1429695746.A.CAA.html\n",
      "處理中... [微好雷]嗑電影：復仇者聯盟2 /bbs/movie/M.1429694493.A.D2A.html\n",
      "處理中... [微好雷] 復仇者聯盟2：奧創紀元 /bbs/movie/M.1429694068.A.05E.html\n",
      "處理中... [好雷] 復仇者聯盟2 /bbs/movie/M.1429691594.A.11C.html\n",
      "處理中... [好雷] 復仇者聯盟2：奧創紀元 /bbs/movie/M.1429689821.A.359.html\n",
      "處理中... [好無雷] 復仇者聯盟2：奧創紀元 /bbs/movie/M.1429686129.A.B10.html\n",
      "處理中... [好雷] 復仇者聯盟2：奧創紀元心得(有劇透) /bbs/movie/M.1429683376.A.C40.html\n",
      "處理中... [偏好雷]復仇者聯盟2之女巫有點正XD /bbs/movie/M.1429683053.A.A76.html\n",
      "處理中... [好雷] 復仇者聯盟2 過癮!!! /bbs/movie/M.1429679699.A.1B3.html\n",
      "處理中... [好雷] 復仇者聯盟2 沒有List跑完之彩蛋 /bbs/movie/M.1429674177.A.C6E.html\n",
      "處理中... [好雷] 復仇者聯盟2 試映會心得 /bbs/movie/M.1429672885.A.8D4.html\n",
      "處理中... [負雷] 復仇者聯盟2疑似歹戲拖棚的片段 /bbs/movie/M.1432016328.A.565.html\n",
      "處理中... [負雷]復仇者聯盟2 /bbs/movie/M.1430545272.A.7F0.html\n",
      "處理中... [普負雷]《復仇者聯盟2：奧創紀元》在趕進度嗎? /bbs/movie/M.1430219814.A.B2F.html\n",
      "處理中... [負雷] 復仇者聯盟2 真心不推 /bbs/movie/M.1430033678.A.F20.html\n",
      "處理中... [負雷] 復仇者聯盟2 /bbs/movie/M.1429806977.A.173.html\n",
      "處理中... [負雷] 復仇者聯盟2:廢五金紀元 /bbs/movie/M.1429769498.A.1DE.html\n",
      "處理中... [大負雷]復仇者聯盟2:奧創紀元 /bbs/movie/M.1429735621.A.DA0.html\n",
      "處理中... [負雷]讓人失望的復仇者聯盟2 /bbs/movie/M.1429730184.A.ED0.html\n",
      "處理中... [負雷] 復仇者聯盟2 一部期望觀眾作功課的作品 /bbs/movie/M.1429708011.A.780.html\n",
      "處理中... [負雷] 復仇者聯盟2..... /bbs/movie/M.1429691519.A.D44.html\n"
     ]
    }
   ],
   "source": [
    "pos_data = get_article_body('mov_pos.csv')\n",
    "neg_data = get_article_body('mov_neg.csv')\n",
    "id_to_body = {**pos_data, **neg_data}"
   ]
  },
  {
   "cell_type": "code",
   "execution_count": 25,
   "metadata": {},
   "outputs": [],
   "source": [
    "with open('id_to_body.json', 'w', encoding='utf-8') as file:\n",
    "    json.dump(id_to_body, file, indent=3, ensure_ascii=False)"
   ]
  },
  {
   "cell_type": "markdown",
   "metadata": {},
   "source": [
    "# 斷字"
   ]
  },
  {
   "cell_type": "code",
   "execution_count": 26,
   "metadata": {},
   "outputs": [],
   "source": [
    "def load_data(csvfile, jsonfile, label):\n",
    "    a_ids = []\n",
    "    with open(csvfile, 'r', encoding='utf-8') as file:\n",
    "        reader = csv.DictReader(file)\n",
    "        for row in reader:\n",
    "            a_ids.append(row['href'])\n",
    "\n",
    "    with open(jsonfile, 'r', encoding='utf-8') as file:\n",
    "        id_to_body = json.load(file)\n",
    "\n",
    "    data = []\n",
    "    for a_id in a_ids:\n",
    "        token_post = []\n",
    "        txt = id_to_body[a_id]         # 抓內容\n",
    "        for sent in txt.split():       # 斷詞\n",
    "            filtered = [t for t in jieba.cut(sent) if t.split() and len(t) > 1]\n",
    "            token_post += filtered\n",
    "        data.append((token_post, label))\n",
    "    return data"
   ]
  },
  {
   "cell_type": "code",
   "execution_count": 27,
   "metadata": {
    "scrolled": false
   },
   "outputs": [
    {
     "name": "stderr",
     "output_type": "stream",
     "text": [
      "Building prefix dict from the default dictionary ...\n",
      "Loading model from cache /var/folders/24/c3c3h17d1fd_6698dpq5kc400000gn/T/jieba.cache\n",
      "Loading model cost 1.430 seconds.\n",
      "Prefix dict has been built successfully.\n"
     ]
    }
   ],
   "source": [
    "pos_load_data = load_data('mov_pos.csv', 'id_to_body.json', 'Good')\n",
    "neg_load_data = load_data('mov_neg.csv', 'id_to_body.json', 'Bad')"
   ]
  },
  {
   "cell_type": "code",
   "execution_count": 66,
   "metadata": {},
   "outputs": [
    {
     "name": "stdout",
     "output_type": "stream",
     "text": [
      "['仇者', '聯盟', '不夠', '強大', '奧創'] Good\n",
      "['二刷', '仇者', '聯盟', '女生', 'marvel'] Good\n",
      "['仇者', '聯盟', '奧創', '大家', '給個'] Good\n",
      "['仇者', '聯盟', '五金', '紀元', '抱持'] Bad\n",
      "['仇者', '聯盟', '創紀元', '所以', '人家'] Bad\n",
      "['仇者', '聯盟', '知道', '同樣', '核心'] Bad\n"
     ]
    }
   ],
   "source": [
    "# #############################\n",
    "# for post, label in pos_load_data[:3]:\n",
    "#    print(post[:5],label)\n",
    "# for post, label in neg_load_data[:3]:\n",
    "#    print(post[:5],label)"
   ]
  },
  {
   "cell_type": "code",
   "execution_count": 173,
   "metadata": {
    "scrolled": true
   },
   "outputs": [],
   "source": [
    "new_neg_load_data = neg_load_data*2          # 增加資料量\n",
    "\n",
    "data = (*pos_load_data, *new_neg_load_data)\n",
    "trains = []\n",
    "targets = []\n",
    "for p, l in data:\n",
    "    targets.append(l)\n",
    "    trains.append(p)"
   ]
  },
  {
   "cell_type": "markdown",
   "metadata": {},
   "source": [
    "# 訓練資料"
   ]
  },
  {
   "cell_type": "code",
   "execution_count": 170,
   "metadata": {},
   "outputs": [],
   "source": [
    "from sklearn.model_selection import train_test_split\n",
    "\n",
    "x_train, x_test, y_train, y_test = train_test_split(trains, targets, test_size = 0.3, \n",
    "                                                     random_state=100)\n",
    "\n",
    "x_trains = []\n",
    "y_trains = []\n",
    "x_tests = []\n",
    "y_tests = []\n",
    "\n",
    "for i in range(len(x_train)):\n",
    "    x_trains.append(' '.join(x_train[i]))\n",
    "    y_trains.append(' '.join(y_train[i]))\n",
    "    \n",
    "for i in range(len(x_test)):\n",
    "    x_tests.append(' '.join(x_test[i]))\n",
    "    y_tests.append(' '.join(y_test[i]))"
   ]
  },
  {
   "cell_type": "code",
   "execution_count": 126,
   "metadata": {},
   "outputs": [],
   "source": [
    "# #######################\n",
    "# random.seed(408)\n",
    "# random.shuffle(pos_load_data)\n",
    "# random.shuffle(neg_load_data)\n",
    "\n",
    "# x_train, y_train, x_test, y_test = [], [], [], []\n",
    "\n",
    "# for i in range(2):\n",
    "#    x_train.append(' '.join(pos_load_data[i][0]))\n",
    "#    x_train.append(' '.join(neg_load_data[i][0]))\n",
    "#    y_train.append(' '.join(pos_load_data[i][1]))\n",
    "#    y_train.append(' '.join(neg_load_data[i][1]))\n",
    "\n",
    "# for i in range(2, len(neg_load_data)):\n",
    "#    x_test.append(' '.join(pos_load_data[i][0]))\n",
    "#    x_test.append(' '.join(neg_load_data[i][0]))\n",
    "#    y_test.append(' '.join(pos_load_data[i][1]))\n",
    "#    y_test.append(' '.join(neg_load_data[i][1]))"
   ]
  },
  {
   "cell_type": "code",
   "execution_count": 127,
   "metadata": {},
   "outputs": [],
   "source": [
    "from sklearn.feature_extraction.text import CountVectorizer\n",
    "from sklearn.feature_extraction.text import TfidfTransformer\n",
    "from sklearn.linear_model import SGDClassifier\n",
    "from sklearn.metrics import accuracy_score"
   ]
  },
  {
   "cell_type": "code",
   "execution_count": 171,
   "metadata": {},
   "outputs": [
    {
     "name": "stdout",
     "output_type": "stream",
     "text": [
      "Predict Result:  ['G o o d', 'G o o d', 'G o o d', 'G o o d', 'B a d', 'G o o d', 'G o o d', 'B a d', 'G o o d', 'B a d', 'G o o d', 'G o o d', 'G o o d', 'B a d', 'G o o d', 'G o o d', 'G o o d', 'G o o d', 'G o o d', 'G o o d']\n",
      "Correct Answer:  ['Good', 'Good', 'Good', 'Bad', 'Bad', 'Good', 'Good', 'Good', 'Good', 'Bad', 'Good', 'Good', 'Good', 'Bad', 'Good', 'Good', 'Good', 'Bad', 'Good', 'Good']\n",
      "Accuracy Rate:  0.85\n"
     ]
    }
   ],
   "source": [
    "vectorizer = CountVectorizer()\n",
    "x_trains = vectorizer.fit_transform(x_trains)\n",
    "transformer = TfidfTransformer()\n",
    "x_trains = transformer.fit_transform(x_trains)\n",
    "sgdclf = SGDClassifier(random_state=40)\n",
    "sgdclf.fit(x_trains, y_trains)\n",
    "\n",
    "x_tests = vectorizer.transform(x_tests)\n",
    "x_tests = transformer.transform(x_tests)\n",
    "\n",
    "y_pred = sgdclf.predict(x_tests)\n",
    "print('Predict Result: ', list(y_pred))\n",
    "print('Correct Answer: ', y_test)\n",
    "print('Accuracy Rate: ', accuracy_score(y_tests, y_pred))"
   ]
  },
  {
   "cell_type": "markdown",
   "metadata": {},
   "source": [
    "# 分析結果"
   ]
  },
  {
   "cell_type": "code",
   "execution_count": 172,
   "metadata": {
    "scrolled": true
   },
   "outputs": [
    {
     "name": "stdout",
     "output_type": "stream",
     "text": [
      "['很不錯', '一部', '電影']\n",
      "['下次', '會想', '再來看']\n",
      "['真的', '爛透了']\n",
      "['非常', '不好看']\n",
      "['G o o d' 'G o o d' 'B a d' 'B a d']\n"
     ]
    }
   ],
   "source": [
    "sentences = [\n",
    "    '很不錯 的 一部 電影',\n",
    "    '下次 會想 再來看',\n",
    "    '真的 爛透了',\n",
    "    '非常 不好看'\n",
    "]\n",
    "\n",
    "analyze = vectorizer.build_analyzer()\n",
    "\n",
    "print(analyze(sentences[0]))\n",
    "print(analyze(sentences[1]))\n",
    "print(analyze(sentences[2]))\n",
    "print(analyze(sentences[3]))\n",
    "\n",
    "custom_data = transformer.transform(vectorizer.transform(sentences))\n",
    "print(sgdclf.predict(custom_data))"
   ]
  },
  {
   "cell_type": "code",
   "execution_count": null,
   "metadata": {},
   "outputs": [],
   "source": []
  }
 ],
 "metadata": {
  "kernelspec": {
   "display_name": "Python 3",
   "language": "python",
   "name": "python3"
  },
  "language_info": {
   "codemirror_mode": {
    "name": "ipython",
    "version": 3
   },
   "file_extension": ".py",
   "mimetype": "text/x-python",
   "name": "python",
   "nbconvert_exporter": "python",
   "pygments_lexer": "ipython3",
   "version": "3.7.3"
  }
 },
 "nbformat": 4,
 "nbformat_minor": 2
}
