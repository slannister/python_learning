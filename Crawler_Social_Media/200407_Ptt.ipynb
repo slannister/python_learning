{
 "cells": [
  {
   "cell_type": "code",
   "execution_count": 30,
   "metadata": {},
   "outputs": [],
   "source": [
    "import requests\n",
    "from bs4 import BeautifulSoup\n",
    "import re\n",
    "import urllib.request\n",
    "import os\n",
    "import time\n",
    "import json"
   ]
  },
  {
   "cell_type": "code",
   "execution_count": 20,
   "metadata": {},
   "outputs": [],
   "source": [
    "def get_web_page(url):\n",
    "    resp = requests.get(url=url, cookies={'over18':'1'})\n",
    "    if resp.status_code != 200:\n",
    "        print('Invalid url: ', resp.url)\n",
    "        return None\n",
    "    else:\n",
    "        return resp.text"
   ]
  },
  {
   "cell_type": "code",
   "execution_count": 26,
   "metadata": {},
   "outputs": [],
   "source": [
    "def get_article(html, date):\n",
    "    soup = BeautifulSoup(html, 'lxml')\n",
    "    \n",
    "    page_div = soup.find('div', {'class':'btn-group btn-group-paging'})\n",
    "    prev_url = page_div.find_all('a')[1]['href']\n",
    "    \n",
    "    articles =[]\n",
    "    divs = soup.find_all('div', 'r-ent')\n",
    "    for d in divs:\n",
    "        if d.find('div', 'date').text.strip() == date:\n",
    "            push_count = 0\n",
    "            push_str = d.find('div', 'nrec').text\n",
    "            if push_str:\n",
    "                try:\n",
    "                    push_count = int(push_str)\n",
    "                except ValueError:\n",
    "                    if push_str == '爆':\n",
    "                        push_count = 100\n",
    "                    elif push_str.startswith('X'):\n",
    "                        push_count = -10\n",
    "            if d.find('a'):\n",
    "                href = d.find('a')['href']\n",
    "                title = d.find('a').text\n",
    "                author = d.find('div', 'author').text if d.find('div', 'author') else ''\n",
    "                articles.append({\n",
    "                                'title': title,\n",
    "                                'href': href,\n",
    "                                'push': push_count,\n",
    "                                'author': author})\n",
    "    \n",
    "    return articles, prev_url           "
   ]
  },
  {
   "cell_type": "code",
   "execution_count": 22,
   "metadata": {},
   "outputs": [],
   "source": [
    "def parse(html):\n",
    "    soup = BeautifulSoup(html, 'lxml')\n",
    "    links = soup.find(id='main-container').find_all('a')\n",
    "    img_urls = []\n",
    "    for link in links:\n",
    "        if re.match(r'^https?://(i.)?(m.)?imgur.com', link['href']):  # r 表示字串內容為原始字串 (raw string)\n",
    "                                                                      # \\d or \\\\d 為跳脫字元\n",
    "                                                                      # ? 表示可有可無\n",
    "                                                                      # (i.)? 表示可以有零或一個 i.\n",
    "            img_urls.append(link['href'])\n",
    "    return img_urls"
   ]
  },
  {
   "cell_type": "code",
   "execution_count": 36,
   "metadata": {},
   "outputs": [],
   "source": [
    "def save(img_urls, title):\n",
    "    if img_urls:\n",
    "        try:\n",
    "            dname = title.strip()\n",
    "            os.makedirs(dname)\n",
    "            for img_url in img_urls:\n",
    "                if img_url.split('//')[1].startswith('m.'):\n",
    "                    img_url = img_url.replace('//m.', '//i.')\n",
    "                if not img_url.split('//')[1].startswith('i.'):\n",
    "                    img_url = img_url.split('//')[0] + '//i.' + img_url.split('//')[1]\n",
    "                if not img_url.endswith('.jpg'):\n",
    "                    img_url += '.jpg'\n",
    "                fname = img_url.split('/')[-1]\n",
    "                urllib.request.urlretrieve(img_url, os.path.join(dname, fname)) # 將網址圖片下載到資料夾中\n",
    "        except Exception as e:\n",
    "            print(e)"
   ]
  },
  {
   "cell_type": "code",
   "execution_count": 37,
   "metadata": {},
   "outputs": [
    {
     "name": "stdout",
     "output_type": "stream",
     "text": [
      "{'title': '[正妹] 早安 吃漢堡', 'href': '/bbs/Beauty/M.1586223146.A.28C.html', 'push': 2, 'author': 'deeeplove'}\n",
      "{'title': '[正妹] 兇(2)', 'href': '/bbs/Beauty/M.1586229213.A.6F7.html', 'push': 2, 'author': 'ckpot'}\n",
      "{'title': '[神人] 櫃姐', 'href': '/bbs/Beauty/M.1586229998.A.C47.html', 'push': 0, 'author': 's8121524'}\n",
      "{'title': 'Re: [正妹] 賓士的麵包', 'href': '/bbs/Beauty/M.1586235522.A.59B.html', 'push': 72, 'author': 'mizubishi'}\n",
      "[Errno 17] File exists: 'Re: [正妹] 賓士的麵包'\n",
      "{'title': '[討論] coser比較 戰起來', 'href': '/bbs/Beauty/M.1586237450.A.674.html', 'push': 4, 'author': 'harry6275'}\n",
      "<urlopen error [Errno 60] Operation timed out>\n",
      "{'title': '[廣告] 三上悠亞 前凸後翹的極致誘惑', 'href': '/bbs/Beauty/M.1586239923.A.090.html', 'push': 3, 'author': 'kelseyaya'}\n",
      "{'title': '[公告] 文章刪除 警告', 'href': '/bbs/Beauty/M.1586240865.A.C28.html', 'push': 0, 'author': 'hateOnas'}\n",
      "{'title': '[正妹] japan4號', 'href': '/bbs/Beauty/M.1586189047.A.35C.html', 'push': 1, 'author': 'ashin68'}\n",
      "{'title': '[正妹] japan5號', 'href': '/bbs/Beauty/M.1586189167.A.FB3.html', 'push': 5, 'author': 'ashin68'}\n",
      "{'title': '[正妹] japan6號', 'href': '/bbs/Beauty/M.1586189360.A.247.html', 'push': 5, 'author': 'ashin68'}\n",
      "{'title': '[正妹] 兇(1)', 'href': '/bbs/Beauty/M.1586194677.A.190.html', 'push': 0, 'author': 'ckpot'}\n",
      "{'title': '[神人] 日本女孩', 'href': '/bbs/Beauty/M.1586194963.A.ED5.html', 'push': 3, 'author': 'Lordain'}\n",
      "{'title': '[神人] 雨衣model', 'href': '/bbs/Beauty/M.1586217412.A.A38.html', 'push': 1, 'author': 'DOHMARS'}\n",
      "{'title': '[正妹] mina米那那', 'href': '/bbs/Beauty/M.1586221908.A.F02.html', 'push': 8, 'author': 'chirex'}\n"
     ]
    }
   ],
   "source": [
    "ptt_url = 'https://www.ptt.cc'\n",
    "current_page = get_web_page(ptt_url + '/bbs/Beauty/index.html')\n",
    "\n",
    "if current_page:\n",
    "    articles = []\n",
    "    today = time.strftime('%m/%d').lstrip('0')\n",
    "    current_articles, prev_url = get_article(current_page, today)\n",
    "    \n",
    "    while current_articles:\n",
    "        articles += current_articles\n",
    "        current_page = get_web_page(ptt_url + prev_url)\n",
    "        current_articles, prev_url = get_article(current_page, today)\n",
    "        \n",
    "for article in articles:\n",
    "    print(article)\n",
    "    page = get_web_page(ptt_url + article['href'])\n",
    "    if page:\n",
    "        img_urls = parse(page)\n",
    "        save(img_urls, article['title'])\n",
    "        article['num_image'] = len(img_urls)\n",
    "with open('data.json', 'w', encoding='utf-8') as file:\n",
    "    json.dump(articles, file, indent=3, ensure_ascii=False, sort_keys=True)"
   ]
  },
  {
   "cell_type": "code",
   "execution_count": null,
   "metadata": {},
   "outputs": [],
   "source": []
  }
 ],
 "metadata": {
  "kernelspec": {
   "display_name": "Python 3",
   "language": "python",
   "name": "python3"
  },
  "language_info": {
   "codemirror_mode": {
    "name": "ipython",
    "version": 3
   },
   "file_extension": ".py",
   "mimetype": "text/x-python",
   "name": "python",
   "nbconvert_exporter": "python",
   "pygments_lexer": "ipython3",
   "version": "3.7.3"
  }
 },
 "nbformat": 4,
 "nbformat_minor": 2
}
